{
 "cells": [
  {
   "cell_type": "code",
   "execution_count": null,
   "metadata": {},
   "outputs": [],
   "source": [
    "import pandas as pd\n",
    "import numpy as np\n",
    "import matplotlib.pyplot as plt\n",
    "import seaborn as sns\n",
    "sns.set()\n",
    "\n",
    "from scipy.stats import skew\n",
    "\n",
    "from sklearn.preprocessing import LabelEncoder, StandardScaler\n",
    "from sklearn.model_selection import train_test_split\n",
    "from sklearn.linear_model import LinearRegression\n",
    "from sklearn.ensemble import RandomForestRegressor\n",
    "from sklearn.metrics import r2_score, mean_squared_error\n",
    "from sklearn.neighbors import KNeighborsRegressor\n",
    "from sklearn.ensemble import GradientBoostingRegressor"
   ]
  },
  {
   "cell_type": "code",
   "execution_count": null,
   "metadata": {},
   "outputs": [],
   "source": [
    "data = pd.read_csv('housing.csv')\n",
    "data.head()"
   ]
  },
  {
   "cell_type": "code",
   "execution_count": null,
   "metadata": {},
   "outputs": [],
   "source": [
    "data.columns.values"
   ]
  },
  {
   "cell_type": "code",
   "execution_count": null,
   "metadata": {},
   "outputs": [],
   "source": [
    "data.info()\n"
   ]
  },
  {
   "cell_type": "code",
   "execution_count": null,
   "metadata": {},
   "outputs": [],
   "source": [
    "data.isnull().sum()\n"
   ]
  },
  {
   "cell_type": "code",
   "execution_count": null,
   "metadata": {},
   "outputs": [],
   "source": [
    "data.describe()\n"
   ]
  },
  {
   "cell_type": "code",
   "execution_count": null,
   "metadata": {},
   "outputs": [],
   "source": [
    "plt.figure(figsize= (10, 6))\n",
    "sns.histplot(data['total_bedrooms'], color = '#005b96', kde= True);"
   ]
  },
  {
   "cell_type": "code",
   "execution_count": null,
   "metadata": {},
   "outputs": [],
   "source": [
    "data['total_bedrooms'].fillna(data['total_bedrooms'].median(), inplace= True)"
   ]
  },
  {
   "attachments": {},
   "cell_type": "markdown",
   "metadata": {},
   "source": [
    "# EDA"
   ]
  },
  {
   "cell_type": "code",
   "execution_count": null,
   "metadata": {},
   "outputs": [],
   "source": [
    "plt.figure(figsize= (20, 8))\n",
    "sns.heatmap(data.corr(), annot= True, cmap='YlGnBu')\n",
    "plt.show()"
   ]
  },
  {
   "cell_type": "code",
   "execution_count": null,
   "metadata": {},
   "outputs": [],
   "source": [
    "sns.histplot(data['median_house_value'], color = '#005b96', kde= True);\n"
   ]
  },
  {
   "cell_type": "code",
   "execution_count": null,
   "metadata": {},
   "outputs": [],
   "source": [
    "data['median_house_value'].skew()\n"
   ]
  },
  {
   "attachments": {},
   "cell_type": "markdown",
   "metadata": {},
   "source": [
    "Our target variable is clearly skewed. Therefore we will apply log transformation to it later\n",
    "\n"
   ]
  },
  {
   "cell_type": "code",
   "execution_count": null,
   "metadata": {},
   "outputs": [],
   "source": [
    "data.hist(bins = 30, figsize=(20, 15), color = '#005b96');\n"
   ]
  },
  {
   "cell_type": "code",
   "execution_count": null,
   "metadata": {},
   "outputs": [],
   "source": [
    "sns.countplot(x = data['ocean_proximity'], palette= 'RdPu');\n"
   ]
  },
  {
   "cell_type": "code",
   "execution_count": null,
   "metadata": {},
   "outputs": [],
   "source": [
    "data.plot(kind=\"scatter\", x=\"longitude\", y=\"latitude\", alpha=0.4,\n",
    "        s=data[\"population\"]/100, label=\"population\", figsize=(15,8),\n",
    "        c=\"median_house_value\", cmap=plt.get_cmap(\"jet\"),colorbar=True,\n",
    "    )\n",
    "plt.legend()\n",
    "plt.show()"
   ]
  },
  {
   "attachments": {},
   "cell_type": "markdown",
   "metadata": {},
   "source": [
    "# Feature ENGINEERING"
   ]
  },
  {
   "cell_type": "code",
   "execution_count": null,
   "metadata": {},
   "outputs": [],
   "source": [
    "data['bed_per_room'] = data['total_bedrooms'] / data['total_rooms']\n"
   ]
  },
  {
   "cell_type": "code",
   "execution_count": null,
   "metadata": {},
   "outputs": [],
   "source": [
    "X = data.drop(['median_house_value'], axis=1)\n",
    "y = np.log(data.median_house_value) # Applying log transformation"
   ]
  },
  {
   "cell_type": "code",
   "execution_count": null,
   "metadata": {},
   "outputs": [],
   "source": [
    "skew_df = pd.DataFrame(X.select_dtypes(np.number).columns, columns= ['Feature'])\n",
    "skew_df['Skew'] = skew_df['Feature'].apply(lambda feature: skew(X[feature]))\n",
    "skew_df['Abs_Skew'] = skew_df['Skew'].apply(abs)\n",
    "skew_df['Skewed'] = skew_df['Abs_Skew'].apply(lambda x: True if x > 0.5 else False)\n",
    "skew_df"
   ]
  },
  {
   "cell_type": "code",
   "execution_count": null,
   "metadata": {},
   "outputs": [],
   "source": [
    "skewed_columns = skew_df[skew_df['Abs_Skew'] > 0.5]['Feature'].values\n",
    "skewed_columns"
   ]
  },
  {
   "cell_type": "code",
   "execution_count": null,
   "metadata": {},
   "outputs": [],
   "source": [
    "for column in skewed_columns:\n",
    "    X[column] = np.log(X[column])"
   ]
  },
  {
   "cell_type": "code",
   "execution_count": null,
   "metadata": {},
   "outputs": [],
   "source": [
    "encoder=LabelEncoder()\n",
    "X['ocean_proximity']=encoder.fit_transform(X['ocean_proximity'])"
   ]
  },
  {
   "cell_type": "code",
   "execution_count": null,
   "metadata": {},
   "outputs": [],
   "source": [
    "X.head()"
   ]
  },
  {
   "cell_type": "code",
   "execution_count": null,
   "metadata": {},
   "outputs": [],
   "source": [
    "scaler = StandardScaler()\n",
    "scaler.fit(X)\n",
    "X = pd.DataFrame(scaler.transform(X), index= X.index, columns= X.columns)"
   ]
  },
  {
   "cell_type": "code",
   "execution_count": null,
   "metadata": {},
   "outputs": [],
   "source": [
    "X_train, X_test, y_train, y_test = train_test_split(X, y, test_size= 0.2, random_state= 42)\n"
   ]
  },
  {
   "attachments": {},
   "cell_type": "markdown",
   "metadata": {},
   "source": [
    "Linear Regression is a fundamental statistical modeling technique used to understand the relationship between a dependent variable and one or more independent variables. It aims to find the best-fit straight line that represents the linear relationship between the variables. Linear Regression is widely used for prediction, forecasting, and understanding the impact of variables on the target variable.\n",
    "\n",
    "In Linear Regression, the dependent variable (also called the response variable or target variable) is predicted based on one or more independent variables (also called predictor variables or features). The relationship between the variables is assumed to be linear, meaning that the change in the dependent variable is proportional to the change in the independent variable(s).\n",
    "\n",
    "The goal of Linear Regression is to estimate the coefficients of the line (slope and intercept) that minimize the difference between the predicted values and the actual values of the dependent variable. This is done using a technique called Ordinary Least Squares (OLS), which minimizes the sum of the squared differences between the predicted and actual values.\n",
    "\n",
    "Once the coefficients are estimated, the linear equation can be used to make predictions on new data. The equation takes the form:\n",
    "Y = b0 + b1X1 + b2X2 + ... + bn*Xn\n",
    "where Y is the predicted value of the dependent variable, b0 is the intercept, b1, b2, ..., bn are the coefficients, and X1, X2, ..., Xn are the values of the independent variables.\n",
    "\n",
    "Linear Regression has several assumptions, including linearity, independence of errors, homoscedasticity (constant variance of errors), and absence of multicollinearity (high correlation between independent variables). Violation of these assumptions can affect the accuracy and reliability of the model.\n",
    "\n",
    "Linear Regression is widely used in various fields such as economics, social sciences, finance, and engineering. It serves as a basis for more advanced regression models and provides valuable insights into the relationships between variables."
   ]
  },
  {
   "attachments": {},
   "cell_type": "markdown",
   "metadata": {},
   "source": [
    "Linear Regression is like drawing a straight line to predict something. Imagine you want to know how much you will weigh based on how tall you are. You can ask your friends who are different heights to weigh themselves, and then you draw a line that best fits their heights and weights. This line helps you predict how much you might weigh based on your own height.\n",
    "\n",
    "In Linear Regression, we have a dependent variable (like weight) and one or more independent variables (like height). We want to find a straight line that best shows the relationship between them. The line should pass as close as possible to the points representing the actual weights of different people with different heights.\n",
    "\n",
    "To find the line, we use a math trick called Ordinary Least Squares. This trick helps us find the line that minimizes the difference between the predicted weights and the actual weights. Once we have the line, we can use it to predict the weight of a person based on their height.\n",
    "\n",
    "Linear Regression has some rules. It assumes that the relationship between the variables is a straight line. It also assumes that the errors (the differences between the predicted and actual weights) are random and have the same variability for all heights. It's also important that the heights of your friends are not very similar, otherwise, it can be tricky to draw an accurate line.\n",
    "\n",
    "In summary, Linear Regression is a way to draw a straight line that helps us predict one variable based on another. It's like drawing a line through points to find a pattern. It's used in many fields to understand relationships between things and make predictions."
   ]
  },
  {
   "attachments": {},
   "cell_type": "markdown",
   "metadata": {},
   "source": [
    "# Linear Regressor"
   ]
  },
  {
   "cell_type": "code",
   "execution_count": null,
   "metadata": {},
   "outputs": [],
   "source": [
    "lr = LinearRegression()\n",
    "lr.fit(X_train, y_train)\n",
    "predictions_lr = lr.predict(X_test)"
   ]
  },
  {
   "cell_type": "code",
   "execution_count": null,
   "metadata": {},
   "outputs": [],
   "source": [
    "rmse = np.sqrt(mean_squared_error(y_test, predictions_lr))\n",
    "r2 = r2_score(y_test, predictions_lr)\n",
    "\n",
    "print('RMSE:', rmse)\n",
    "print('R-square:', r2)"
   ]
  },
  {
   "attachments": {},
   "cell_type": "markdown",
   "metadata": {},
   "source": [
    "# KNN"
   ]
  },
  {
   "cell_type": "code",
   "execution_count": null,
   "metadata": {},
   "outputs": [],
   "source": [
    "knn = KNeighborsRegressor()\n",
    "knn.fit(X_train, y_train)\n",
    "predictions_knn = knn.predict(X_test)"
   ]
  },
  {
   "cell_type": "code",
   "execution_count": null,
   "metadata": {},
   "outputs": [],
   "source": [
    "rmse = np.sqrt(mean_squared_error(y_test, predictions_knn))\n",
    "r2 = r2_score(y_test, predictions_knn)\n",
    "\n",
    "print('RMSE:', rmse)\n",
    "print('R-square:', r2)"
   ]
  },
  {
   "attachments": {},
   "cell_type": "markdown",
   "metadata": {},
   "source": [
    "# Random Forest Regressor"
   ]
  },
  {
   "cell_type": "code",
   "execution_count": null,
   "metadata": {},
   "outputs": [],
   "source": [
    "rf = RandomForestRegressor(n_estimators= 100)\n",
    "rf.fit(X_train, y_train)\n",
    "predictions_rf = rf.predict(X_test)"
   ]
  },
  {
   "cell_type": "code",
   "execution_count": null,
   "metadata": {},
   "outputs": [],
   "source": [
    "from sklearn.tree import plot_tree\n",
    "\n",
    "tree = rf.estimators_[0]\n",
    "# Plotting the first decision tree\n",
    "plt.figure(figsize=(30, 15))\n",
    "plot_tree(tree, filled=True, rounded=True, max_depth=4, fontsize=14)\n",
    "plt.show()"
   ]
  }
 ],
 "metadata": {
  "kernelspec": {
   "display_name": "base",
   "language": "python",
   "name": "python3"
  },
  "language_info": {
   "codemirror_mode": {
    "name": "ipython",
    "version": 3
   },
   "file_extension": ".py",
   "mimetype": "text/x-python",
   "name": "python",
   "nbconvert_exporter": "python",
   "pygments_lexer": "ipython3",
   "version": "3.10.10"
  },
  "orig_nbformat": 4
 },
 "nbformat": 4,
 "nbformat_minor": 2
}

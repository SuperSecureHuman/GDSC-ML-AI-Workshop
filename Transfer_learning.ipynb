{
 "cells": [
  {
   "cell_type": "markdown",
   "id": "0f3ad4a0",
   "metadata": {
    "papermill": {
     "duration": 0.00865,
     "end_time": "2023-06-14T17:47:34.315049",
     "exception": false,
     "start_time": "2023-06-14T17:47:34.306399",
     "status": "completed"
    },
    "tags": []
   },
   "source": [
    "# Transfer Learning on Tensorflow\n",
    "\n",
    "Simple to follow notebook, based on official Tensorflow docs."
   ]
  },
  {
   "cell_type": "code",
   "execution_count": 1,
   "id": "2a70c1a2",
   "metadata": {
    "execution": {
     "iopub.execute_input": "2023-06-14T17:47:34.331985Z",
     "iopub.status.busy": "2023-06-14T17:47:34.331525Z",
     "iopub.status.idle": "2023-06-14T17:47:34.344892Z",
     "shell.execute_reply": "2023-06-14T17:47:34.343982Z"
    },
    "papermill": {
     "duration": 0.024337,
     "end_time": "2023-06-14T17:47:34.347066",
     "exception": false,
     "start_time": "2023-06-14T17:47:34.322729",
     "status": "completed"
    },
    "tags": []
   },
   "outputs": [],
   "source": [
    "# This is to supress all CUDA warnings to make the output cleaner\n",
    "import os\n",
    "os.environ['TF_CPP_MIN_LOG_LEVEL'] = '3'"
   ]
  },
  {
   "cell_type": "code",
   "execution_count": 2,
   "id": "57c8d5df",
   "metadata": {
    "execution": {
     "iopub.execute_input": "2023-06-14T17:47:34.364059Z",
     "iopub.status.busy": "2023-06-14T17:47:34.363152Z",
     "iopub.status.idle": "2023-06-14T17:47:42.875176Z",
     "shell.execute_reply": "2023-06-14T17:47:42.874092Z"
    },
    "papermill": {
     "duration": 8.523145,
     "end_time": "2023-06-14T17:47:42.877733",
     "exception": false,
     "start_time": "2023-06-14T17:47:34.354588",
     "status": "completed"
    },
    "tags": []
   },
   "outputs": [
    {
     "name": "stderr",
     "output_type": "stream",
     "text": [
      "/opt/conda/lib/python3.10/site-packages/tensorflow_io/python/ops/__init__.py:98: UserWarning: unable to load libtensorflow_io_plugins.so: unable to open file: libtensorflow_io_plugins.so, from paths: ['/opt/conda/lib/python3.10/site-packages/tensorflow_io/python/ops/libtensorflow_io_plugins.so']\n",
      "caused by: ['/opt/conda/lib/python3.10/site-packages/tensorflow_io/python/ops/libtensorflow_io_plugins.so: undefined symbol: _ZN3tsl6StatusC1EN10tensorflow5error4CodeESt17basic_string_viewIcSt11char_traitsIcEENS_14SourceLocationE']\n",
      "  warnings.warn(f\"unable to load libtensorflow_io_plugins.so: {e}\")\n",
      "/opt/conda/lib/python3.10/site-packages/tensorflow_io/python/ops/__init__.py:104: UserWarning: file system plugins are not loaded: unable to open file: libtensorflow_io.so, from paths: ['/opt/conda/lib/python3.10/site-packages/tensorflow_io/python/ops/libtensorflow_io.so']\n",
      "caused by: ['/opt/conda/lib/python3.10/site-packages/tensorflow_io/python/ops/libtensorflow_io.so: undefined symbol: _ZTVN10tensorflow13GcsFileSystemE']\n",
      "  warnings.warn(f\"file system plugins are not loaded: {e}\")\n"
     ]
    }
   ],
   "source": [
    "# Import required libraries\n",
    "\n",
    "import matplotlib\n",
    "import matplotlib.pyplot as plt\n",
    "import numpy as np\n",
    "import tensorflow as tf"
   ]
  },
  {
   "cell_type": "code",
   "execution_count": 3,
   "id": "35bd6409",
   "metadata": {
    "execution": {
     "iopub.execute_input": "2023-06-14T17:47:42.895723Z",
     "iopub.status.busy": "2023-06-14T17:47:42.894241Z",
     "iopub.status.idle": "2023-06-14T17:47:42.901376Z",
     "shell.execute_reply": "2023-06-14T17:47:42.900072Z"
    },
    "papermill": {
     "duration": 0.017929,
     "end_time": "2023-06-14T17:47:42.903544",
     "exception": false,
     "start_time": "2023-06-14T17:47:42.885615",
     "status": "completed"
    },
    "tags": []
   },
   "outputs": [
    {
     "name": "stdout",
     "output_type": "stream",
     "text": [
      "3.7.1\n",
      "2.12.0\n",
      "1.23.5\n"
     ]
    }
   ],
   "source": [
    "print(matplotlib.__version__)\n",
    "print(tf.__version__)\n",
    "print(np.__version__)"
   ]
  },
  {
   "cell_type": "markdown",
   "id": "5cdf3b37",
   "metadata": {
    "papermill": {
     "duration": 0.007592,
     "end_time": "2023-06-14T17:47:42.918884",
     "exception": false,
     "start_time": "2023-06-14T17:47:42.911292",
     "status": "completed"
    },
    "tags": []
   },
   "source": [
    "Now we need our dataset. For this, we will use the cats and dogs dataset.\n",
    "\n",
    "tf.keras has a function to download files from the internet, and extract them if necessary."
   ]
  },
  {
   "cell_type": "code",
   "execution_count": 4,
   "id": "dbd89ee1",
   "metadata": {
    "execution": {
     "iopub.execute_input": "2023-06-14T17:47:42.935434Z",
     "iopub.status.busy": "2023-06-14T17:47:42.934694Z",
     "iopub.status.idle": "2023-06-14T17:47:44.317401Z",
     "shell.execute_reply": "2023-06-14T17:47:44.316414Z"
    },
    "papermill": {
     "duration": 1.393983,
     "end_time": "2023-06-14T17:47:44.320313",
     "exception": false,
     "start_time": "2023-06-14T17:47:42.926330",
     "status": "completed"
    },
    "tags": []
   },
   "outputs": [
    {
     "name": "stdout",
     "output_type": "stream",
     "text": [
      "Downloading data from https://storage.googleapis.com/mledu-datasets/cats_and_dogs_filtered.zip\n",
      "68606236/68606236 [==============================] - 0s 0us/step\n"
     ]
    }
   ],
   "source": [
    "url = 'https://storage.googleapis.com/mledu-datasets/cats_and_dogs_filtered.zip'\n",
    "\n",
    "# This line downloads the file, and extracts the zip file.\n",
    "# The download location will be shown later\n",
    "download_zip_file = tf.keras.utils.get_file('cats_and_dogs_filtered.zip', origin=url, extract=True)"
   ]
  },
  {
   "cell_type": "code",
   "execution_count": 5,
   "id": "8b89f574",
   "metadata": {
    "execution": {
     "iopub.execute_input": "2023-06-14T17:47:44.339798Z",
     "iopub.status.busy": "2023-06-14T17:47:44.339503Z",
     "iopub.status.idle": "2023-06-14T17:47:44.346131Z",
     "shell.execute_reply": "2023-06-14T17:47:44.344991Z"
    },
    "papermill": {
     "duration": 0.0185,
     "end_time": "2023-06-14T17:47:44.348223",
     "exception": false,
     "start_time": "2023-06-14T17:47:44.329723",
     "status": "completed"
    },
    "tags": []
   },
   "outputs": [
    {
     "name": "stdout",
     "output_type": "stream",
     "text": [
      "/root/.keras/datasets/cats_and_dogs_filtered\n"
     ]
    }
   ],
   "source": [
    "file_path = os.path.join(os.path.dirname(download_zip_file), 'cats_and_dogs_filtered')\n",
    "print(file_path)"
   ]
  },
  {
   "cell_type": "code",
   "execution_count": 6,
   "id": "0dbb63ac",
   "metadata": {
    "execution": {
     "iopub.execute_input": "2023-06-14T17:47:44.368531Z",
     "iopub.status.busy": "2023-06-14T17:47:44.367088Z",
     "iopub.status.idle": "2023-06-14T17:47:44.375377Z",
     "shell.execute_reply": "2023-06-14T17:47:44.374502Z"
    },
    "papermill": {
     "duration": 0.020205,
     "end_time": "2023-06-14T17:47:44.377294",
     "exception": false,
     "start_time": "2023-06-14T17:47:44.357089",
     "status": "completed"
    },
    "tags": []
   },
   "outputs": [
    {
     "data": {
      "text/plain": [
       "['validation', 'train', 'vectorize.py']"
      ]
     },
     "execution_count": 6,
     "metadata": {},
     "output_type": "execute_result"
    }
   ],
   "source": [
    "os.listdir(file_path)\n"
   ]
  },
  {
   "cell_type": "code",
   "execution_count": 7,
   "id": "44c073b2",
   "metadata": {
    "execution": {
     "iopub.execute_input": "2023-06-14T17:47:44.397154Z",
     "iopub.status.busy": "2023-06-14T17:47:44.396344Z",
     "iopub.status.idle": "2023-06-14T17:47:47.750700Z",
     "shell.execute_reply": "2023-06-14T17:47:47.749765Z"
    },
    "papermill": {
     "duration": 3.367167,
     "end_time": "2023-06-14T17:47:47.753362",
     "exception": false,
     "start_time": "2023-06-14T17:47:44.386195",
     "status": "completed"
    },
    "tags": []
   },
   "outputs": [
    {
     "name": "stdout",
     "output_type": "stream",
     "text": [
      "Found 2000 files belonging to 2 classes.\n"
     ]
    }
   ],
   "source": [
    "# Now that we have the data, we have to create a dataset from it.\n",
    "# From previous cell, we know the folder structure of the dataset.\n",
    "img_size = (224, 224)\n",
    "file_path_train = os.path.join(file_path, 'train')\n",
    "train_dataset = tf.keras.utils.image_dataset_from_directory(file_path_train, image_size=img_size)"
   ]
  },
  {
   "cell_type": "code",
   "execution_count": 8,
   "id": "55e287a6",
   "metadata": {
    "execution": {
     "iopub.execute_input": "2023-06-14T17:47:47.772661Z",
     "iopub.status.busy": "2023-06-14T17:47:47.772371Z",
     "iopub.status.idle": "2023-06-14T17:47:47.857793Z",
     "shell.execute_reply": "2023-06-14T17:47:47.856875Z"
    },
    "papermill": {
     "duration": 0.097625,
     "end_time": "2023-06-14T17:47:47.859983",
     "exception": false,
     "start_time": "2023-06-14T17:47:47.762358",
     "status": "completed"
    },
    "tags": []
   },
   "outputs": [
    {
     "name": "stdout",
     "output_type": "stream",
     "text": [
      "Found 1000 files belonging to 2 classes.\n"
     ]
    }
   ],
   "source": [
    "file_path_validation = os.path.join(file_path, 'validation')\n",
    "validation_dataset = tf.keras.utils.image_dataset_from_directory(file_path_validation,image_size=img_size)"
   ]
  },
  {
   "cell_type": "markdown",
   "id": "c127767e",
   "metadata": {
    "papermill": {
     "duration": 0.008599,
     "end_time": "2023-06-14T17:47:47.877800",
     "exception": false,
     "start_time": "2023-06-14T17:47:47.869201",
     "status": "completed"
    },
    "tags": []
   },
   "source": [
    "Coming to the pretrained network part\n",
    "\n",
    "Here we are going to use mobilenet as our pretrained network.\n",
    "\n",
    "Every network, has some rules for the input layer. It includes image size and normalization.\n",
    "\n",
    "Keras does this for us, by having function for some pretrained networks"
   ]
  },
  {
   "cell_type": "code",
   "execution_count": 9,
   "id": "39c0cb3d",
   "metadata": {
    "execution": {
     "iopub.execute_input": "2023-06-14T17:47:47.897627Z",
     "iopub.status.busy": "2023-06-14T17:47:47.897336Z",
     "iopub.status.idle": "2023-06-14T17:47:47.901814Z",
     "shell.execute_reply": "2023-06-14T17:47:47.900747Z"
    },
    "papermill": {
     "duration": 0.017378,
     "end_time": "2023-06-14T17:47:47.904253",
     "exception": false,
     "start_time": "2023-06-14T17:47:47.886875",
     "status": "completed"
    },
    "tags": []
   },
   "outputs": [],
   "source": [
    "preprocess_input = tf.keras.applications.mobilenet_v2.preprocess_input"
   ]
  },
  {
   "cell_type": "code",
   "execution_count": 10,
   "id": "ea223927",
   "metadata": {
    "execution": {
     "iopub.execute_input": "2023-06-14T17:47:47.923223Z",
     "iopub.status.busy": "2023-06-14T17:47:47.922929Z",
     "iopub.status.idle": "2023-06-14T17:47:47.927457Z",
     "shell.execute_reply": "2023-06-14T17:47:47.926518Z"
    },
    "papermill": {
     "duration": 0.016253,
     "end_time": "2023-06-14T17:47:47.929420",
     "exception": false,
     "start_time": "2023-06-14T17:47:47.913167",
     "status": "completed"
    },
    "tags": []
   },
   "outputs": [],
   "source": [
    "# According to mobileNetV2 documentation, the input shape is 224x224x3.\n",
    "# We will use this shape for all the images.\n",
    "\n",
    "img_size = img_size # (224, 224)\n",
    "img_shape = img_size + (3,)\n"
   ]
  },
  {
   "cell_type": "code",
   "execution_count": 11,
   "id": "1d33e412",
   "metadata": {
    "execution": {
     "iopub.execute_input": "2023-06-14T17:47:47.949256Z",
     "iopub.status.busy": "2023-06-14T17:47:47.948499Z",
     "iopub.status.idle": "2023-06-14T17:47:49.730253Z",
     "shell.execute_reply": "2023-06-14T17:47:49.729281Z"
    },
    "papermill": {
     "duration": 1.794097,
     "end_time": "2023-06-14T17:47:49.732633",
     "exception": false,
     "start_time": "2023-06-14T17:47:47.938536",
     "status": "completed"
    },
    "tags": []
   },
   "outputs": [
    {
     "name": "stdout",
     "output_type": "stream",
     "text": [
      "Downloading data from https://storage.googleapis.com/tensorflow/keras-applications/mobilenet_v2/mobilenet_v2_weights_tf_dim_ordering_tf_kernels_1.0_224_no_top.h5\n",
      "9406464/9406464 [==============================] - 0s 0us/step\n"
     ]
    }
   ],
   "source": [
    "# Getting our base model\n",
    "\n",
    "base_model = tf.keras.applications.MobileNetV2(input_shape=img_shape, \n",
    "                                               include_top=False, \n",
    "                                               weights='imagenet')"
   ]
  },
  {
   "cell_type": "markdown",
   "id": "5878e253",
   "metadata": {
    "papermill": {
     "duration": 0.009366,
     "end_time": "2023-06-14T17:47:49.751537",
     "exception": false,
     "start_time": "2023-06-14T17:47:49.742171",
     "status": "completed"
    },
    "tags": []
   },
   "source": [
    "Transfer learning begins"
   ]
  },
  {
   "cell_type": "code",
   "execution_count": 12,
   "id": "b1e5d918",
   "metadata": {
    "execution": {
     "iopub.execute_input": "2023-06-14T17:47:49.785155Z",
     "iopub.status.busy": "2023-06-14T17:47:49.784472Z",
     "iopub.status.idle": "2023-06-14T17:47:49.809799Z",
     "shell.execute_reply": "2023-06-14T17:47:49.808217Z"
    },
    "papermill": {
     "duration": 0.045682,
     "end_time": "2023-06-14T17:47:49.813675",
     "exception": false,
     "start_time": "2023-06-14T17:47:49.767993",
     "status": "completed"
    },
    "tags": []
   },
   "outputs": [],
   "source": [
    "# Freezing the entire model\n",
    "# The weights in the base model won't be changed during model.fit\n",
    "base_model.trainable = False"
   ]
  },
  {
   "cell_type": "code",
   "execution_count": 13,
   "id": "84cdfe82",
   "metadata": {
    "execution": {
     "iopub.execute_input": "2023-06-14T17:47:49.849089Z",
     "iopub.status.busy": "2023-06-14T17:47:49.848496Z",
     "iopub.status.idle": "2023-06-14T17:47:49.858985Z",
     "shell.execute_reply": "2023-06-14T17:47:49.858061Z"
    },
    "papermill": {
     "duration": 0.031686,
     "end_time": "2023-06-14T17:47:49.861157",
     "exception": false,
     "start_time": "2023-06-14T17:47:49.829471",
     "status": "completed"
    },
    "tags": []
   },
   "outputs": [],
   "source": [
    "# The output layer we want will be a binary classification layer.\n",
    "# It will have only 1 node\n",
    "\n",
    "prediction_layer = tf.keras.layers.Dense(1)"
   ]
  },
  {
   "cell_type": "code",
   "execution_count": 14,
   "id": "0123db89",
   "metadata": {
    "execution": {
     "iopub.execute_input": "2023-06-14T17:47:49.882170Z",
     "iopub.status.busy": "2023-06-14T17:47:49.881838Z",
     "iopub.status.idle": "2023-06-14T17:47:50.353404Z",
     "shell.execute_reply": "2023-06-14T17:47:50.352394Z"
    },
    "papermill": {
     "duration": 0.485178,
     "end_time": "2023-06-14T17:47:50.356234",
     "exception": false,
     "start_time": "2023-06-14T17:47:49.871056",
     "status": "completed"
    },
    "tags": []
   },
   "outputs": [],
   "source": [
    "# Putting all this together\n",
    "\n",
    "input = tf.keras.Input(shape=img_shape)\n",
    "x = preprocess_input(input)\n",
    "x = base_model(x)\n",
    "x = tf.keras.layers.GlobalAveragePooling2D()(x)\n",
    "outputs = prediction_layer(x)\n",
    "model = tf.keras.Model(inputs=input, outputs=outputs)"
   ]
  },
  {
   "cell_type": "code",
   "execution_count": 15,
   "id": "fd848648",
   "metadata": {
    "execution": {
     "iopub.execute_input": "2023-06-14T17:47:50.380770Z",
     "iopub.status.busy": "2023-06-14T17:47:50.379120Z",
     "iopub.status.idle": "2023-06-14T17:47:50.401909Z",
     "shell.execute_reply": "2023-06-14T17:47:50.400975Z"
    },
    "papermill": {
     "duration": 0.037343,
     "end_time": "2023-06-14T17:47:50.404386",
     "exception": false,
     "start_time": "2023-06-14T17:47:50.367043",
     "status": "completed"
    },
    "tags": []
   },
   "outputs": [],
   "source": [
    "# Compile the model\n",
    "\n",
    "base_learning_rate = 0.0001\n",
    "model.compile(optimizer=tf.keras.optimizers.Adam(learning_rate=base_learning_rate),\n",
    "              loss=tf.keras.losses.BinaryCrossentropy(from_logits=True),\n",
    "              metrics=['accuracy'])\n"
   ]
  },
  {
   "cell_type": "code",
   "execution_count": 16,
   "id": "30d9cf37",
   "metadata": {
    "execution": {
     "iopub.execute_input": "2023-06-14T17:47:50.426079Z",
     "iopub.status.busy": "2023-06-14T17:47:50.425751Z",
     "iopub.status.idle": "2023-06-14T17:47:50.469652Z",
     "shell.execute_reply": "2023-06-14T17:47:50.468712Z"
    },
    "papermill": {
     "duration": 0.058182,
     "end_time": "2023-06-14T17:47:50.472799",
     "exception": false,
     "start_time": "2023-06-14T17:47:50.414617",
     "status": "completed"
    },
    "tags": []
   },
   "outputs": [
    {
     "name": "stdout",
     "output_type": "stream",
     "text": [
      "Model: \"model\"\n",
      "_________________________________________________________________\n",
      " Layer (type)                Output Shape              Param #   \n",
      "=================================================================\n",
      " input_2 (InputLayer)        [(None, 224, 224, 3)]     0         \n",
      "                                                                 \n",
      " tf.math.truediv (TFOpLambda  (None, 224, 224, 3)      0         \n",
      " )                                                               \n",
      "                                                                 \n",
      " tf.math.subtract (TFOpLambd  (None, 224, 224, 3)      0         \n",
      " a)                                                              \n",
      "                                                                 \n",
      " mobilenetv2_1.00_224 (Funct  (None, 7, 7, 1280)       2257984   \n",
      " ional)                                                          \n",
      "                                                                 \n",
      " global_average_pooling2d (G  (None, 1280)             0         \n",
      " lobalAveragePooling2D)                                          \n",
      "                                                                 \n",
      " dense (Dense)               (None, 1)                 1281      \n",
      "                                                                 \n",
      "=================================================================\n",
      "Total params: 2,259,265\n",
      "Trainable params: 1,281\n",
      "Non-trainable params: 2,257,984\n",
      "_________________________________________________________________\n"
     ]
    }
   ],
   "source": [
    "model.summary()"
   ]
  },
  {
   "cell_type": "code",
   "execution_count": 17,
   "id": "c4cf12a0",
   "metadata": {
    "execution": {
     "iopub.execute_input": "2023-06-14T17:47:50.497857Z",
     "iopub.status.busy": "2023-06-14T17:47:50.497058Z",
     "iopub.status.idle": "2023-06-14T17:48:00.319609Z",
     "shell.execute_reply": "2023-06-14T17:48:00.318615Z"
    },
    "papermill": {
     "duration": 9.837597,
     "end_time": "2023-06-14T17:48:00.322016",
     "exception": false,
     "start_time": "2023-06-14T17:47:50.484419",
     "status": "completed"
    },
    "tags": []
   },
   "outputs": [
    {
     "name": "stdout",
     "output_type": "stream",
     "text": [
      "32/32 [==============================] - 10s 56ms/step - loss: 0.6634 - accuracy: 0.5650\n",
      "initial loss: 0.66\n",
      "initial accuracy: 0.56\n"
     ]
    }
   ],
   "source": [
    "loss0, accuracy0 = model.evaluate(validation_dataset, batch_size=32, workers=4)\n",
    "print(\"initial loss: {:.2f}\".format(loss0))\n",
    "print(\"initial accuracy: {:.2f}\".format(accuracy0))\n"
   ]
  },
  {
   "cell_type": "markdown",
   "id": "ddb10233",
   "metadata": {
    "papermill": {
     "duration": 0.01333,
     "end_time": "2023-06-14T17:48:00.349238",
     "exception": false,
     "start_time": "2023-06-14T17:48:00.335908",
     "status": "completed"
    },
    "tags": []
   },
   "source": [
    "Now we train this!"
   ]
  },
  {
   "cell_type": "code",
   "execution_count": 18,
   "id": "2b09fd25",
   "metadata": {
    "execution": {
     "iopub.execute_input": "2023-06-14T17:48:00.380238Z",
     "iopub.status.busy": "2023-06-14T17:48:00.379843Z",
     "iopub.status.idle": "2023-06-14T17:48:59.444343Z",
     "shell.execute_reply": "2023-06-14T17:48:59.443211Z"
    },
    "papermill": {
     "duration": 59.08444,
     "end_time": "2023-06-14T17:48:59.447814",
     "exception": false,
     "start_time": "2023-06-14T17:48:00.363374",
     "status": "completed"
    },
    "tags": []
   },
   "outputs": [
    {
     "name": "stdout",
     "output_type": "stream",
     "text": [
      "Epoch 1/10\n",
      "63/63 [==============================] - 9s 86ms/step - loss: 0.5311 - accuracy: 0.6725 - val_loss: 0.4234 - val_accuracy: 0.7360\n",
      "Epoch 2/10\n",
      "63/63 [==============================] - 5s 75ms/step - loss: 0.3537 - accuracy: 0.8260 - val_loss: 0.2943 - val_accuracy: 0.8850\n",
      "Epoch 3/10\n",
      "63/63 [==============================] - 5s 78ms/step - loss: 0.2592 - accuracy: 0.9120 - val_loss: 0.2236 - val_accuracy: 0.9280\n",
      "Epoch 4/10\n",
      "63/63 [==============================] - 6s 90ms/step - loss: 0.2044 - accuracy: 0.9395 - val_loss: 0.1803 - val_accuracy: 0.9480\n",
      "Epoch 5/10\n",
      "63/63 [==============================] - 6s 96ms/step - loss: 0.1695 - accuracy: 0.9510 - val_loss: 0.1515 - val_accuracy: 0.9550\n",
      "Epoch 6/10\n",
      "63/63 [==============================] - 6s 86ms/step - loss: 0.1456 - accuracy: 0.9570 - val_loss: 0.1312 - val_accuracy: 0.9630\n",
      "Epoch 7/10\n",
      "63/63 [==============================] - 5s 77ms/step - loss: 0.1282 - accuracy: 0.9590 - val_loss: 0.1164 - val_accuracy: 0.9660\n",
      "Epoch 8/10\n",
      "63/63 [==============================] - 6s 83ms/step - loss: 0.1153 - accuracy: 0.9625 - val_loss: 0.1049 - val_accuracy: 0.9680\n",
      "Epoch 9/10\n",
      "63/63 [==============================] - 5s 78ms/step - loss: 0.1050 - accuracy: 0.9655 - val_loss: 0.0961 - val_accuracy: 0.9710\n",
      "Epoch 10/10\n",
      "63/63 [==============================] - 5s 75ms/step - loss: 0.0966 - accuracy: 0.9675 - val_loss: 0.0886 - val_accuracy: 0.9730\n"
     ]
    }
   ],
   "source": [
    "initial_epochs = 10\n",
    "\n",
    "# Training the model\n",
    "history = model.fit(train_dataset, epochs=initial_epochs,\n",
    "                    validation_data=validation_dataset,\n",
    "                    batch_size=32,\n",
    "                    workers=4)"
   ]
  },
  {
   "cell_type": "markdown",
   "id": "326d886c",
   "metadata": {
    "papermill": {
     "duration": 0.085156,
     "end_time": "2023-06-14T17:48:59.609098",
     "exception": false,
     "start_time": "2023-06-14T17:48:59.523942",
     "status": "completed"
    },
    "tags": []
   },
   "source": [
    "Plotting the model's performance over training time"
   ]
  },
  {
   "cell_type": "code",
   "execution_count": 19,
   "id": "cb6746d6",
   "metadata": {
    "execution": {
     "iopub.execute_input": "2023-06-14T17:48:59.778820Z",
     "iopub.status.busy": "2023-06-14T17:48:59.778360Z",
     "iopub.status.idle": "2023-06-14T17:49:00.591609Z",
     "shell.execute_reply": "2023-06-14T17:49:00.590724Z"
    },
    "papermill": {
     "duration": 0.913461,
     "end_time": "2023-06-14T17:49:00.600477",
     "exception": false,
     "start_time": "2023-06-14T17:48:59.687016",
     "status": "completed"
    },
    "tags": []
   },
   "outputs": [
    {
     "data": {
      "image/png": "[encoded data removed]",
      "text/plain": [
       "<Figure size 1200x1200 with 2 Axes>"
      ]
     },
     "metadata": {},
     "output_type": "display_data"
    }
   ],
   "source": [
    "acc = history.history['accuracy']\n",
    "val_acc = history.history['val_accuracy']\n",
    "\n",
    "loss = history.history['loss']\n",
    "val_loss = history.history['val_loss']\n",
    "\n",
    "plt.figure(figsize=(12, 12))\n",
    "plt.subplot(2, 1, 1)\n",
    "plt.plot(acc, label='Training Accuracy')\n",
    "plt.plot(val_acc, label='Validation Accuracy')\n",
    "plt.legend(loc='lower right')\n",
    "plt.ylabel('Accuracy')\n",
    "plt.ylim([min(plt.ylim()), 1])\n",
    "plt.title('Training and Validation Accuracy')\n",
    "\n",
    "plt.subplot(2, 1, 2)\n",
    "plt.plot(loss, label='Training Loss')\n",
    "plt.plot(val_loss, label='Validation Loss')\n",
    "plt.legend(loc='upper right')\n",
    "plt.ylabel('Cross Entropy')\n",
    "plt.ylim([0, 1.0])\n",
    "plt.title('Training and Validation Loss')\n",
    "plt.xlabel('epoch')\n",
    "plt.show()\n"
   ]
  },
  {
   "cell_type": "markdown",
   "id": "2bd65476",
   "metadata": {
    "papermill": {
     "duration": 0.076811,
     "end_time": "2023-06-14T17:49:00.755150",
     "exception": false,
     "start_time": "2023-06-14T17:49:00.678339",
     "status": "completed"
    },
    "tags": []
   },
   "source": [
    "Now we have a model that works for our usecase.\n",
    "\n",
    "We can further improve this model by fine tuning the network.\n",
    "\n",
    "Here, we unfreeze parts of the netowrk and put them in the training loop --> Fine tuning the layers"
   ]
  },
  {
   "cell_type": "code",
   "execution_count": 20,
   "id": "a7946a98",
   "metadata": {
    "execution": {
     "iopub.execute_input": "2023-06-14T17:49:00.912099Z",
     "iopub.status.busy": "2023-06-14T17:49:00.911650Z",
     "iopub.status.idle": "2023-06-14T17:49:00.917183Z",
     "shell.execute_reply": "2023-06-14T17:49:00.916380Z"
    },
    "papermill": {
     "duration": 0.088997,
     "end_time": "2023-06-14T17:49:00.922898",
     "exception": false,
     "start_time": "2023-06-14T17:49:00.833901",
     "status": "completed"
    },
    "tags": []
   },
   "outputs": [
    {
     "name": "stdout",
     "output_type": "stream",
     "text": [
      "Number of layers in the base model:  154\n"
     ]
    }
   ],
   "source": [
    "# Let's take a look to see how many layers are in the base model\n",
    "print(\"Number of layers in the base model: \", len(base_model.layers))"
   ]
  },
  {
   "cell_type": "code",
   "execution_count": 21,
   "id": "4c21d2eb",
   "metadata": {
    "execution": {
     "iopub.execute_input": "2023-06-14T17:49:01.045607Z",
     "iopub.status.busy": "2023-06-14T17:49:01.045268Z",
     "iopub.status.idle": "2023-06-14T17:49:01.059033Z",
     "shell.execute_reply": "2023-06-14T17:49:01.057851Z"
    },
    "papermill": {
     "duration": 0.069943,
     "end_time": "2023-06-14T17:49:01.061407",
     "exception": false,
     "start_time": "2023-06-14T17:49:00.991464",
     "status": "completed"
    },
    "tags": []
   },
   "outputs": [],
   "source": [
    "base_model.trainable = True"
   ]
  },
  {
   "cell_type": "code",
   "execution_count": 22,
   "id": "4d5ad65b",
   "metadata": {
    "execution": {
     "iopub.execute_input": "2023-06-14T17:49:01.170911Z",
     "iopub.status.busy": "2023-06-14T17:49:01.169956Z",
     "iopub.status.idle": "2023-06-14T17:49:01.178897Z",
     "shell.execute_reply": "2023-06-14T17:49:01.177995Z"
    },
    "papermill": {
     "duration": 0.066656,
     "end_time": "2023-06-14T17:49:01.181247",
     "exception": false,
     "start_time": "2023-06-14T17:49:01.114591",
     "status": "completed"
    },
    "tags": []
   },
   "outputs": [],
   "source": [
    "# Fine-tune from this layer onwards\n",
    "fine_tune_at = 100\n",
    "\n",
    "# Freeze all the layers before the `fine_tune_at` layer\n",
    "for layer in base_model.layers[:fine_tune_at]:\n",
    "  layer.trainable = False"
   ]
  },
  {
   "cell_type": "code",
   "execution_count": 23,
   "id": "20584de1",
   "metadata": {
    "execution": {
     "iopub.execute_input": "2023-06-14T17:49:01.291587Z",
     "iopub.status.busy": "2023-06-14T17:49:01.290827Z",
     "iopub.status.idle": "2023-06-14T17:49:01.308113Z",
     "shell.execute_reply": "2023-06-14T17:49:01.307244Z"
    },
    "papermill": {
     "duration": 0.07389,
     "end_time": "2023-06-14T17:49:01.310228",
     "exception": false,
     "start_time": "2023-06-14T17:49:01.236338",
     "status": "completed"
    },
    "tags": []
   },
   "outputs": [],
   "source": [
    "model.compile(loss=tf.keras.losses.BinaryCrossentropy(from_logits=True),\n",
    "              optimizer=tf.keras.optimizers.RMSprop(\n",
    "              learning_rate=base_learning_rate/10),\n",
    "              metrics=['accuracy'])\n"
   ]
  },
  {
   "cell_type": "code",
   "execution_count": 24,
   "id": "9b4636a5",
   "metadata": {
    "execution": {
     "iopub.execute_input": "2023-06-14T17:49:01.421892Z",
     "iopub.status.busy": "2023-06-14T17:49:01.420816Z",
     "iopub.status.idle": "2023-06-14T17:49:01.472541Z",
     "shell.execute_reply": "2023-06-14T17:49:01.471294Z"
    },
    "papermill": {
     "duration": 0.109895,
     "end_time": "2023-06-14T17:49:01.474571",
     "exception": false,
     "start_time": "2023-06-14T17:49:01.364676",
     "status": "completed"
    },
    "tags": []
   },
   "outputs": [
    {
     "name": "stdout",
     "output_type": "stream",
     "text": [
      "Model: \"model\"\n",
      "_________________________________________________________________\n",
      " Layer (type)                Output Shape              Param #   \n",
      "=================================================================\n",
      " input_2 (InputLayer)        [(None, 224, 224, 3)]     0         \n",
      "                                                                 \n",
      " tf.math.truediv (TFOpLambda  (None, 224, 224, 3)      0         \n",
      " )                                                               \n",
      "                                                                 \n",
      " tf.math.subtract (TFOpLambd  (None, 224, 224, 3)      0         \n",
      " a)                                                              \n",
      "                                                                 \n",
      " mobilenetv2_1.00_224 (Funct  (None, 7, 7, 1280)       2257984   \n",
      " ional)                                                          \n",
      "                                                                 \n",
      " global_average_pooling2d (G  (None, 1280)             0         \n",
      " lobalAveragePooling2D)                                          \n",
      "                                                                 \n",
      " dense (Dense)               (None, 1)                 1281      \n",
      "                                                                 \n",
      "=================================================================\n",
      "Total params: 2,259,265\n",
      "Trainable params: 1,862,721\n",
      "Non-trainable params: 396,544\n",
      "_________________________________________________________________\n"
     ]
    }
   ],
   "source": [
    "model.summary()"
   ]
  },
  {
   "cell_type": "code",
   "execution_count": 25,
   "id": "51790010",
   "metadata": {
    "execution": {
     "iopub.execute_input": "2023-06-14T17:49:01.587350Z",
     "iopub.status.busy": "2023-06-14T17:49:01.587019Z",
     "iopub.status.idle": "2023-06-14T17:50:24.903081Z",
     "shell.execute_reply": "2023-06-14T17:50:24.901734Z"
    },
    "papermill": {
     "duration": 83.375631,
     "end_time": "2023-06-14T17:50:24.906211",
     "exception": false,
     "start_time": "2023-06-14T17:49:01.530580",
     "status": "completed"
    },
    "tags": []
   },
   "outputs": [
    {
     "name": "stdout",
     "output_type": "stream",
     "text": [
      "Epoch 11/20\n",
      "63/63 [==============================] - 18s 98ms/step - loss: 0.2562 - accuracy: 0.9205 - val_loss: 0.0643 - val_accuracy: 0.9850\n",
      "Epoch 12/20\n",
      "63/63 [==============================] - 6s 86ms/step - loss: 0.1092 - accuracy: 0.9705 - val_loss: 0.0514 - val_accuracy: 0.9880\n",
      "Epoch 13/20\n",
      "63/63 [==============================] - 5s 81ms/step - loss: 0.0748 - accuracy: 0.9770 - val_loss: 0.0372 - val_accuracy: 0.9880\n",
      "Epoch 14/20\n",
      "63/63 [==============================] - 6s 92ms/step - loss: 0.0561 - accuracy: 0.9840 - val_loss: 0.0319 - val_accuracy: 0.9900\n",
      "Epoch 15/20\n",
      "63/63 [==============================] - 5s 82ms/step - loss: 0.0536 - accuracy: 0.9825 - val_loss: 0.0271 - val_accuracy: 0.9920\n",
      "Epoch 16/20\n",
      "63/63 [==============================] - 5s 82ms/step - loss: 0.0358 - accuracy: 0.9880 - val_loss: 0.0262 - val_accuracy: 0.9910\n",
      "Epoch 17/20\n",
      "63/63 [==============================] - 5s 80ms/step - loss: 0.0276 - accuracy: 0.9900 - val_loss: 0.0261 - val_accuracy: 0.9900\n",
      "Epoch 18/20\n",
      "63/63 [==============================] - 6s 96ms/step - loss: 0.0200 - accuracy: 0.9950 - val_loss: 0.0244 - val_accuracy: 0.9910\n",
      "Epoch 19/20\n",
      "63/63 [==============================] - 6s 83ms/step - loss: 0.0144 - accuracy: 0.9960 - val_loss: 0.0231 - val_accuracy: 0.9910\n",
      "Epoch 20/20\n",
      "63/63 [==============================] - 6s 86ms/step - loss: 0.0126 - accuracy: 0.9975 - val_loss: 0.0235 - val_accuracy: 0.9910\n"
     ]
    }
   ],
   "source": [
    "fine_tune_epochs = 10\n",
    "total_epochs = initial_epochs + fine_tune_epochs\n",
    "\n",
    "#Fine-tune the model\n",
    "\n",
    "# Training the model\n",
    "history_fine = model.fit(train_dataset,\n",
    "                    epochs=total_epochs,\n",
    "                    initial_epoch=history.epoch[-1] + 1, # The epoch number of the last training epoch\n",
    "                    validation_data=validation_dataset,\n",
    "                    batch_size=32,\n",
    "                    workers=4)\n"
   ]
  },
  {
   "cell_type": "code",
   "execution_count": 26,
   "id": "98db518f",
   "metadata": {
    "execution": {
     "iopub.execute_input": "2023-06-14T17:50:25.105347Z",
     "iopub.status.busy": "2023-06-14T17:50:25.104351Z",
     "iopub.status.idle": "2023-06-14T17:50:25.110214Z",
     "shell.execute_reply": "2023-06-14T17:50:25.109368Z"
    },
    "papermill": {
     "duration": 0.106975,
     "end_time": "2023-06-14T17:50:25.112221",
     "exception": false,
     "start_time": "2023-06-14T17:50:25.005246",
     "status": "completed"
    },
    "tags": []
   },
   "outputs": [],
   "source": [
    "# Adding our new metrics to the existing history\n",
    "\n",
    "acc += history_fine.history['accuracy']\n",
    "val_acc += history_fine.history['val_accuracy']\n",
    "\n",
    "loss += history_fine.history['loss']\n",
    "val_loss += history_fine.history['val_loss']\n"
   ]
  },
  {
   "cell_type": "code",
   "execution_count": 27,
   "id": "2083e502",
   "metadata": {
    "execution": {
     "iopub.execute_input": "2023-06-14T17:50:25.310599Z",
     "iopub.status.busy": "2023-06-14T17:50:25.310248Z",
     "iopub.status.idle": "2023-06-14T17:50:25.934774Z",
     "shell.execute_reply": "2023-06-14T17:50:25.933893Z"
    },
    "papermill": {
     "duration": 0.727887,
     "end_time": "2023-06-14T17:50:25.937990",
     "exception": false,
     "start_time": "2023-06-14T17:50:25.210103",
     "status": "completed"
    },
    "tags": []
   },
   "outputs": [
    {
     "data": {
      "image/png": "[encoded data removed]",
      "text/plain": [
       "<Figure size 1200x1200 with 2 Axes>"
      ]
     },
     "metadata": {},
     "output_type": "display_data"
    }
   ],
   "source": [
    "plt.figure(figsize=(12, 12))\n",
    "plt.subplot(2, 1, 1)\n",
    "plt.plot(acc, label='Training Accuracy')\n",
    "plt.plot(val_acc, label='Validation Accuracy')\n",
    "plt.ylim([0.8, 1])\n",
    "plt.plot([initial_epochs-1, initial_epochs-1],\n",
    "         plt.ylim(), label='Start Fine Tuning')\n",
    "plt.legend(loc='lower right')\n",
    "plt.title('Training and Validation Accuracy')\n",
    "\n",
    "plt.subplot(2, 1, 2)\n",
    "plt.plot(loss, label='Training Loss')\n",
    "plt.plot(val_loss, label='Validation Loss')\n",
    "plt.ylim([0, 1.0])\n",
    "plt.plot([initial_epochs-1, initial_epochs-1],\n",
    "         plt.ylim(), label='Start Fine Tuning')\n",
    "plt.legend(loc='upper right')\n",
    "plt.title('Training and Validation Loss')\n",
    "plt.xlabel('epoch')\n",
    "plt.show()\n"
   ]
  },
  {
   "cell_type": "markdown",
   "id": "049d320c",
   "metadata": {
    "papermill": {
     "duration": 0.101692,
     "end_time": "2023-06-14T17:50:26.140100",
     "exception": false,
     "start_time": "2023-06-14T17:50:26.038408",
     "status": "completed"
    },
    "tags": []
   },
   "source": [
    "Transfer learning and fine tuning done!"
   ]
  },
  {
   "cell_type": "code",
   "execution_count": null,
   "id": "5b45fb50",
   "metadata": {
    "papermill": {
     "duration": 0.09978,
     "end_time": "2023-06-14T17:50:26.340840",
     "exception": false,
     "start_time": "2023-06-14T17:50:26.241060",
     "status": "completed"
    },
    "tags": []
   },
   "outputs": [],
   "source": []
  }
 ],
 "metadata": {
  "kernelspec": {
   "display_name": "Python 3",
   "language": "python",
   "name": "python3"
  },
  "language_info": {
   "codemirror_mode": {
    "name": "ipython",
    "version": 3
   },
   "file_extension": ".py",
   "mimetype": "text/x-python",
   "name": "python",
   "nbconvert_exporter": "python",
   "pygments_lexer": "ipython3",
   "version": "3.10.10"
  },
  "papermill": {
   "default_parameters": {},
   "duration": 186.901423,
   "end_time": "2023-06-14T17:50:29.670235",
   "environment_variables": {},
   "exception": null,
   "input_path": "__notebook__.ipynb",
   "output_path": "__notebook__.ipynb",
   "parameters": {},
   "start_time": "2023-06-14T17:47:22.768812",
   "version": "2.4.0"
  }
 },
 "nbformat": 4,
 "nbformat_minor": 5
}

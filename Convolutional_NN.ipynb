{
 "cells": [
  {
   "cell_type": "code",
   "execution_count": 2,
   "metadata": {},
   "outputs": [
    {
     "name": "stderr",
     "output_type": "stream",
     "text": [
      "2023-06-05 22:01:42.881385: I tensorflow/core/platform/cpu_feature_guard.cc:182] This TensorFlow binary is optimized to use available CPU instructions in performance-critical operations.\n",
      "To enable the following instructions: AVX2 FMA, in other operations, rebuild TensorFlow with the appropriate compiler flags.\n",
      "2023-06-05 22:01:43.592489: W tensorflow/compiler/tf2tensorrt/utils/py_utils.cc:38] TF-TRT Warning: Could not find TensorRT\n"
     ]
    }
   ],
   "source": [
    "#Importing req libraries\n",
    "import numpy as np\n",
    "import matplotlib.pyplot as plt\n",
    "from keras.datasets import mnist\n",
    "from sklearn.model_selection import train_test_split\n",
    "from sklearn.metrics import confusion_matrix, classification_report\n",
    "#Importing keras libraries\n",
    "from tensorflow.keras.models import Sequential\n",
    "from tensorflow.keras.layers import Dense , Conv2D , MaxPool2D , Flatten\n",
    "from tensorflow.keras.utils import to_categorical\n",
    "from tensorflow.keras.optimizers import Adam"
   ]
  },
  {
   "cell_type": "code",
   "execution_count": 3,
   "metadata": {},
   "outputs": [],
   "source": [
    "np.random.seed(0)\n",
    "\n",
    "#Loading the dataset\n",
    "(X_train, y_train), (X_test, y_test) = mnist.load_data()"
   ]
  },
  {
   "cell_type": "code",
   "execution_count": 4,
   "metadata": {},
   "outputs": [
    {
     "data": {
      "image/png": "[encoded data removed]",
      "text/plain": [
       "<Figure size 1000x1000 with 5 Axes>"
      ]
     },
     "metadata": {},
     "output_type": "display_data"
    }
   ],
   "source": [
    "#plotting few random images as black and white\n",
    "plt.figure(figsize=(10,10))\n",
    "for i in range(5):\n",
    "    plt.subplot(5,5,i+1)\n",
    "    plt.imshow(X_train[i], cmap='gray')\n",
    "    plt.axis('off')\n",
    "plt.show()"
   ]
  },
  {
   "cell_type": "code",
   "execution_count": 5,
   "metadata": {},
   "outputs": [
    {
     "data": {
      "text/plain": [
       "(60000, 28, 28)"
      ]
     },
     "execution_count": 5,
     "metadata": {},
     "output_type": "execute_result"
    }
   ],
   "source": [
    "X_train.shape"
   ]
  },
  {
   "cell_type": "code",
   "execution_count": 14,
   "metadata": {},
   "outputs": [
    {
     "name": "stderr",
     "output_type": "stream",
     "text": [
      "WARNING:absl:`lr` is deprecated in Keras optimizer, please use `learning_rate` or use the legacy optimizer, e.g.,tf.keras.optimizers.legacy.Adam.\n"
     ]
    },
    {
     "name": "stdout",
     "output_type": "stream",
     "text": [
      "Model: \"sequential_1\"\n",
      "_________________________________________________________________\n",
      " Layer (type)                Output Shape              Param #   \n",
      "=================================================================\n",
      " conv2d_2 (Conv2D)           (None, 26, 26, 32)        320       \n",
      "                                                                 \n",
      " max_pooling2d_2 (MaxPooling  (None, 13, 13, 32)       0         \n",
      " 2D)                                                             \n",
      "                                                                 \n",
      " conv2d_3 (Conv2D)           (None, 11, 11, 64)        18496     \n",
      "                                                                 \n",
      " max_pooling2d_3 (MaxPooling  (None, 5, 5, 64)         0         \n",
      " 2D)                                                             \n",
      "                                                                 \n",
      " flatten_1 (Flatten)         (None, 1600)              0         \n",
      "                                                                 \n",
      " dense_3 (Dense)             (None, 64)                102464    \n",
      "                                                                 \n",
      " dense_4 (Dense)             (None, 32)                2080      \n",
      "                                                                 \n",
      " dense_5 (Dense)             (None, 10)                330       \n",
      "                                                                 \n",
      "=================================================================\n",
      "Total params: 123,690\n",
      "Trainable params: 123,690\n",
      "Non-trainable params: 0\n",
      "_________________________________________________________________\n"
     ]
    }
   ],
   "source": [
    "\n",
    "# Defining the model architecture\n",
    "model = Sequential(\n",
    "    [\n",
    "        Conv2D(32, (3, 3), activation='relu', input_shape=(28, 28, 1)),\n",
    "        # Convolutional layer with 32 filters of size 3x3, using ReLU activation function.\n",
    "        # Input shape: (28, 28, 1) corresponds to 28x28 grayscale images.\n",
    "\n",
    "        MaxPool2D((2, 2)),\n",
    "        # Max pooling layer with pool size 2x2.\n",
    "        # Reduces the spatial dimensions by taking the maximum value within each 2x2 window.\n",
    "\n",
    "        Conv2D(64, (3, 3), activation='relu'),\n",
    "        # Convolutional layer with 64 filters of size 3x3, using ReLU activation function.\n",
    "\n",
    "        MaxPool2D((2, 2)),\n",
    "        # Max pooling layer with pool size 2x2.\n",
    "\n",
    "        Flatten(),\n",
    "        # Flattens the input from 2D to a 1D array.\n",
    "        # Necessary before passing the data to a fully connected layer.\n",
    "\n",
    "        Dense(64, activation='relu'),\n",
    "        # Fully connected layer with 64 neurons and ReLU activation function.\n",
    "\n",
    "        Dense(32, activation='relu'),\n",
    "        # Fully connected layer with 32 neurons and ReLU activation function.\n",
    "\n",
    "        Dense(10, activation='softmax')\n",
    "        # Output layer with 10 neurons (corresponding to 10 classes) and softmax activation function.\n",
    "        # Softmax outputs probabilities for each class, indicating the model's confidence.\n",
    "    ]\n",
    ")\n",
    "\n",
    "# Compiling the model\n",
    "model.compile(optimizer=Adam(lr=0.04), loss='categorical_crossentropy', metrics=['accuracy'])\n",
    "# Adam optimizer with learning rate 0.04.\n",
    "# Categorical cross-entropy loss function is used for multi-class classification.\n",
    "# Accuracy metric is calculated during training and evaluation.\n",
    "\n",
    "# Printing the model summary\n",
    "model.summary()\n",
    "# Displays a summary of the model architecture, including the number of parameters in each layer,\n",
    "# as well as the total number of trainable parameters."
   ]
  },
  {
   "cell_type": "code",
   "execution_count": 15,
   "metadata": {},
   "outputs": [
    {
     "name": "stdout",
     "output_type": "stream",
     "text": [
      "Epoch 1/10\n",
      "1200/1200 [==============================] - 22s 18ms/step - loss: 0.3826 - accuracy: 0.9196 - val_loss: 0.0974 - val_accuracy: 0.9721\n",
      "Epoch 2/10\n",
      "1200/1200 [==============================] - 21s 18ms/step - loss: 0.0795 - accuracy: 0.9765 - val_loss: 0.0816 - val_accuracy: 0.9778\n",
      "Epoch 3/10\n",
      "1200/1200 [==============================] - 21s 17ms/step - loss: 0.0581 - accuracy: 0.9821 - val_loss: 0.0664 - val_accuracy: 0.9804\n",
      "Epoch 4/10\n",
      "1200/1200 [==============================] - 21s 18ms/step - loss: 0.0490 - accuracy: 0.9853 - val_loss: 0.0587 - val_accuracy: 0.9837\n",
      "Epoch 5/10\n",
      "1200/1200 [==============================] - 16s 14ms/step - loss: 0.0414 - accuracy: 0.9870 - val_loss: 0.0546 - val_accuracy: 0.9852\n",
      "Epoch 6/10\n",
      "1200/1200 [==============================] - 18s 15ms/step - loss: 0.0372 - accuracy: 0.9883 - val_loss: 0.0489 - val_accuracy: 0.9861\n",
      "Epoch 7/10\n",
      "1200/1200 [==============================] - 22s 18ms/step - loss: 0.0316 - accuracy: 0.9897 - val_loss: 0.0862 - val_accuracy: 0.9814\n",
      "Epoch 8/10\n",
      "1200/1200 [==============================] - 21s 17ms/step - loss: 0.0295 - accuracy: 0.9910 - val_loss: 0.0545 - val_accuracy: 0.9866\n",
      "Epoch 9/10\n",
      "1200/1200 [==============================] - 21s 17ms/step - loss: 0.0248 - accuracy: 0.9927 - val_loss: 0.0603 - val_accuracy: 0.9840\n",
      "Epoch 10/10\n",
      "1200/1200 [==============================] - 21s 17ms/step - loss: 0.0193 - accuracy: 0.9941 - val_loss: 0.0935 - val_accuracy: 0.9798\n"
     ]
    },
    {
     "data": {
      "text/plain": [
       "<keras.callbacks.History at 0x7f73fc3eb100>"
      ]
     },
     "execution_count": 15,
     "metadata": {},
     "output_type": "execute_result"
    }
   ],
   "source": [
    "from keras.callbacks import TensorBoard\n",
    "X_train, X_test, y_train, y_test = train_test_split(X_train, y_train, test_size=0.2)\n",
    "model.fit(X_train.reshape(-1,28,28,1), to_categorical(y_train), epochs=10, validation_split=0.2,callbacks=[TensorBoard('CNN_logs')])"
   ]
  },
  {
   "cell_type": "code",
   "execution_count": 11,
   "metadata": {},
   "outputs": [
    {
     "name": "stdout",
     "output_type": "stream",
     "text": [
      "313/313 [==============================] - 2s 5ms/step - loss: 0.0803 - accuracy: 0.9840\n"
     ]
    },
    {
     "data": {
      "text/plain": [
       "[0.08032990992069244, 0.984000027179718]"
      ]
     },
     "execution_count": 11,
     "metadata": {},
     "output_type": "execute_result"
    }
   ],
   "source": [
    "model.evaluate(X_test.reshape(-1,28,28,1), to_categorical(y_test))"
   ]
  },
  {
   "cell_type": "code",
   "execution_count": 10,
   "metadata": {},
   "outputs": [
    {
     "name": "stdout",
     "output_type": "stream",
     "text": [
      "313/313 [==============================] - 1s 5ms/step\n"
     ]
    },
    {
     "data": {
      "text/plain": [
       "array([7, 2, 1, ..., 4, 5, 6])"
      ]
     },
     "execution_count": 10,
     "metadata": {},
     "output_type": "execute_result"
    }
   ],
   "source": [
    "#confusion matrix\n",
    "y_pred = model.predict(X_test.reshape(-1,28,28,1))\n",
    "y_pred = np.argmax(y_pred, axis=1)\n",
    "y_pred\n"
   ]
  },
  {
   "cell_type": "code",
   "execution_count": 12,
   "metadata": {},
   "outputs": [
    {
     "name": "stdout",
     "output_type": "stream",
     "text": [
      "[[ 975    1    1    0    1    0    0    1    1    0]\n",
      " [   0 1130    0    2    0    0    0    2    1    0]\n",
      " [   1    2 1003    1    0    0    0   24    1    0]\n",
      " [   0    0    0 1006    0    0    0    3    1    0]\n",
      " [   1    0    2    0  943    0    0    6    2   28]\n",
      " [   2    0    0   11    0  873    1    2    0    3]\n",
      " [   4    5    1    0    3    6  938    0    1    0]\n",
      " [   0    2    0    1    1    0    0 1022    1    1]\n",
      " [   3    0    0    2    2    1    0    3  957    6]\n",
      " [   0    0    0    1    6    2    0    5    2  993]]\n"
     ]
    }
   ],
   "source": [
    "print(confusion_matrix(y_test, y_pred))"
   ]
  },
  {
   "cell_type": "code",
   "execution_count": 13,
   "metadata": {},
   "outputs": [
    {
     "name": "stdout",
     "output_type": "stream",
     "text": [
      "              precision    recall  f1-score   support\n",
      "\n",
      "           0       0.99      0.99      0.99       980\n",
      "           1       0.99      1.00      0.99      1135\n",
      "           2       1.00      0.97      0.98      1032\n",
      "           3       0.98      1.00      0.99      1010\n",
      "           4       0.99      0.96      0.97       982\n",
      "           5       0.99      0.98      0.98       892\n",
      "           6       1.00      0.98      0.99       958\n",
      "           7       0.96      0.99      0.98      1028\n",
      "           8       0.99      0.98      0.99       974\n",
      "           9       0.96      0.98      0.97      1009\n",
      "\n",
      "    accuracy                           0.98     10000\n",
      "   macro avg       0.98      0.98      0.98     10000\n",
      "weighted avg       0.98      0.98      0.98     10000\n",
      "\n"
     ]
    }
   ],
   "source": [
    "print(classification_report(y_test, y_pred))"
   ]
  }
 ],
 "metadata": {
  "kernelspec": {
   "display_name": "base",
   "language": "python",
   "name": "python3"
  },
  "language_info": {
   "codemirror_mode": {
    "name": "ipython",
    "version": 3
   },
   "file_extension": ".py",
   "mimetype": "text/x-python",
   "name": "python",
   "nbconvert_exporter": "python",
   "pygments_lexer": "ipython3",
   "version": "3.10.10"
  },
  "orig_nbformat": 4
 },
 "nbformat": 4,
 "nbformat_minor": 2
}

{
 "cells": [
  {
   "cell_type": "code",
   "execution_count": 1,
   "id": "f95ad082",
   "metadata": {
    "execution": {
     "iopub.execute_input": "2023-06-14T17:26:58.547887Z",
     "iopub.status.busy": "2023-06-14T17:26:58.547298Z",
     "iopub.status.idle": "2023-06-14T17:27:07.400063Z",
     "shell.execute_reply": "2023-06-14T17:27:07.399151Z"
    },
    "papermill": {
     "duration": 8.859928,
     "end_time": "2023-06-14T17:27:07.402715",
     "exception": false,
     "start_time": "2023-06-14T17:26:58.542787",
     "status": "completed"
    },
    "tags": []
   },
   "outputs": [
    {
     "name": "stderr",
     "output_type": "stream",
     "text": [
      "/opt/conda/lib/python3.10/site-packages/tensorflow_io/python/ops/__init__.py:98: UserWarning: unable to load libtensorflow_io_plugins.so: unable to open file: libtensorflow_io_plugins.so, from paths: ['/opt/conda/lib/python3.10/site-packages/tensorflow_io/python/ops/libtensorflow_io_plugins.so']\n",
      "caused by: ['/opt/conda/lib/python3.10/site-packages/tensorflow_io/python/ops/libtensorflow_io_plugins.so: undefined symbol: _ZN3tsl6StatusC1EN10tensorflow5error4CodeESt17basic_string_viewIcSt11char_traitsIcEENS_14SourceLocationE']\n",
      "  warnings.warn(f\"unable to load libtensorflow_io_plugins.so: {e}\")\n",
      "/opt/conda/lib/python3.10/site-packages/tensorflow_io/python/ops/__init__.py:104: UserWarning: file system plugins are not loaded: unable to open file: libtensorflow_io.so, from paths: ['/opt/conda/lib/python3.10/site-packages/tensorflow_io/python/ops/libtensorflow_io.so']\n",
      "caused by: ['/opt/conda/lib/python3.10/site-packages/tensorflow_io/python/ops/libtensorflow_io.so: undefined symbol: _ZTVN10tensorflow13GcsFileSystemE']\n",
      "  warnings.warn(f\"file system plugins are not loaded: {e}\")\n"
     ]
    }
   ],
   "source": [
    "#Importing req libraries\n",
    "import numpy as np\n",
    "import matplotlib.pyplot as plt\n",
    "from keras.datasets import mnist\n",
    "from sklearn.model_selection import train_test_split\n",
    "from sklearn.metrics import confusion_matrix, classification_report\n",
    "#Importing keras libraries\n",
    "from tensorflow.keras.models import Sequential\n",
    "from tensorflow.keras.layers import Dense , Conv2D , MaxPool2D , Flatten\n",
    "from tensorflow.keras.utils import to_categorical\n",
    "from tensorflow.keras.optimizers import Adam"
   ]
  },
  {
   "cell_type": "code",
   "execution_count": 2,
   "id": "4737a0f9",
   "metadata": {
    "execution": {
     "iopub.execute_input": "2023-06-14T17:27:07.410451Z",
     "iopub.status.busy": "2023-06-14T17:27:07.409864Z",
     "iopub.status.idle": "2023-06-14T17:27:07.819047Z",
     "shell.execute_reply": "2023-06-14T17:27:07.818150Z"
    },
    "papermill": {
     "duration": 0.415651,
     "end_time": "2023-06-14T17:27:07.821645",
     "exception": false,
     "start_time": "2023-06-14T17:27:07.405994",
     "status": "completed"
    },
    "tags": []
   },
   "outputs": [
    {
     "name": "stdout",
     "output_type": "stream",
     "text": [
      "Downloading data from https://storage.googleapis.com/tensorflow/tf-keras-datasets/mnist.npz\n",
      "11490434/11490434 [==============================] - 0s 0us/step\n"
     ]
    }
   ],
   "source": [
    "np.random.seed(0)\n",
    "\n",
    "#Loading the dataset\n",
    "(X_train, y_train), (X_test, y_test) = mnist.load_data()"
   ]
  },
  {
   "cell_type": "code",
   "execution_count": 3,
   "id": "7cd40953",
   "metadata": {
    "execution": {
     "iopub.execute_input": "2023-06-14T17:27:07.829975Z",
     "iopub.status.busy": "2023-06-14T17:27:07.829698Z",
     "iopub.status.idle": "2023-06-14T17:27:08.027874Z",
     "shell.execute_reply": "2023-06-14T17:27:08.026669Z"
    },
    "papermill": {
     "duration": 0.204725,
     "end_time": "2023-06-14T17:27:08.030090",
     "exception": false,
     "start_time": "2023-06-14T17:27:07.825365",
     "status": "completed"
    },
    "tags": []
   },
   "outputs": [
    {
     "data": {
      "image/png": "[encoded data removed]",
      "text/plain": [
       "<Figure size 1000x1000 with 5 Axes>"
      ]
     },
     "metadata": {},
     "output_type": "display_data"
    }
   ],
   "source": [
    "#plotting few random images as black and white\n",
    "plt.figure(figsize=(10,10))\n",
    "for i in range(5):\n",
    "    plt.subplot(5,5,i+1)\n",
    "    plt.imshow(X_train[i], cmap='gray')\n",
    "    plt.axis('off')\n",
    "plt.show()"
   ]
  },
  {
   "cell_type": "code",
   "execution_count": 4,
   "id": "a5666e7a",
   "metadata": {
    "execution": {
     "iopub.execute_input": "2023-06-14T17:27:08.045882Z",
     "iopub.status.busy": "2023-06-14T17:27:08.045449Z",
     "iopub.status.idle": "2023-06-14T17:27:08.052207Z",
     "shell.execute_reply": "2023-06-14T17:27:08.051403Z"
    },
    "papermill": {
     "duration": 0.0183,
     "end_time": "2023-06-14T17:27:08.055512",
     "exception": false,
     "start_time": "2023-06-14T17:27:08.037212",
     "status": "completed"
    },
    "tags": []
   },
   "outputs": [
    {
     "data": {
      "text/plain": [
       "(60000, 28, 28)"
      ]
     },
     "execution_count": 4,
     "metadata": {},
     "output_type": "execute_result"
    }
   ],
   "source": [
    "X_train.shape"
   ]
  },
  {
   "cell_type": "code",
   "execution_count": 5,
   "id": "cec9e626",
   "metadata": {
    "execution": {
     "iopub.execute_input": "2023-06-14T17:27:08.071461Z",
     "iopub.status.busy": "2023-06-14T17:27:08.071021Z",
     "iopub.status.idle": "2023-06-14T17:27:11.129994Z",
     "shell.execute_reply": "2023-06-14T17:27:11.129175Z"
    },
    "papermill": {
     "duration": 3.080703,
     "end_time": "2023-06-14T17:27:11.143464",
     "exception": false,
     "start_time": "2023-06-14T17:27:08.062761",
     "status": "completed"
    },
    "tags": []
   },
   "outputs": [
    {
     "name": "stdout",
     "output_type": "stream",
     "text": [
      "Model: \"sequential\"\n",
      "_________________________________________________________________\n",
      " Layer (type)                Output Shape              Param #   \n",
      "=================================================================\n",
      " conv2d (Conv2D)             (None, 26, 26, 32)        320       \n",
      "                                                                 \n",
      " max_pooling2d (MaxPooling2D  (None, 13, 13, 32)       0         \n",
      " )                                                               \n",
      "                                                                 \n",
      " conv2d_1 (Conv2D)           (None, 11, 11, 64)        18496     \n",
      "                                                                 \n",
      " max_pooling2d_1 (MaxPooling  (None, 5, 5, 64)         0         \n",
      " 2D)                                                             \n",
      "                                                                 \n",
      " flatten (Flatten)           (None, 1600)              0         \n",
      "                                                                 \n",
      " dense (Dense)               (None, 64)                102464    \n",
      "                                                                 \n",
      " dense_1 (Dense)             (None, 32)                2080      \n",
      "                                                                 \n",
      " dense_2 (Dense)             (None, 10)                330       \n",
      "                                                                 \n",
      "=================================================================\n",
      "Total params: 123,690\n",
      "Trainable params: 123,690\n",
      "Non-trainable params: 0\n",
      "_________________________________________________________________\n"
     ]
    }
   ],
   "source": [
    "\n",
    "# Defining the model architecture\n",
    "model = Sequential(\n",
    "    [\n",
    "        Conv2D(32, (3, 3), activation='relu', input_shape=(28, 28, 1)),\n",
    "        # Convolutional layer with 32 filters of size 3x3, using ReLU activation function.\n",
    "        # Input shape: (28, 28, 1) corresponds to 28x28 grayscale images.\n",
    "\n",
    "        MaxPool2D((2, 2)),\n",
    "        # Max pooling layer with pool size 2x2.\n",
    "        # Reduces the spatial dimensions by taking the maximum value within each 2x2 window.\n",
    "\n",
    "        Conv2D(64, (3, 3), activation='relu'),\n",
    "        # Convolutional layer with 64 filters of size 3x3, using ReLU activation function.\n",
    "\n",
    "        MaxPool2D((2, 2)),\n",
    "        # Max pooling layer with pool size 2x2.\n",
    "\n",
    "        Flatten(),\n",
    "        # Flattens the input from 2D to a 1D array.\n",
    "        # Necessary before passing the data to a fully connected layer.\n",
    "\n",
    "        Dense(64, activation='relu'),\n",
    "        # Fully connected layer with 64 neurons and ReLU activation function.\n",
    "\n",
    "        Dense(32, activation='relu'),\n",
    "        # Fully connected layer with 32 neurons and ReLU activation function.\n",
    "\n",
    "        Dense(10, activation='softmax')\n",
    "        # Output layer with 10 neurons (corresponding to 10 classes) and softmax activation function.\n",
    "        # Softmax outputs probabilities for each class, indicating the model's confidence.\n",
    "    ]\n",
    ")\n",
    "\n",
    "# Compiling the model\n",
    "model.compile(optimizer=Adam(lr=0.04), loss='categorical_crossentropy', metrics=['accuracy'])\n",
    "# Adam optimizer with learning rate 0.04.\n",
    "# Categorical cross-entropy loss function is used for multi-class classification.\n",
    "# Accuracy metric is calculated during training and evaluation.\n",
    "\n",
    "# Printing the model summary\n",
    "model.summary()\n",
    "# Displays a summary of the model architecture, including the number of parameters in each layer,\n",
    "# as well as the total number of trainable parameters."
   ]
  },
  {
   "cell_type": "code",
   "execution_count": 6,
   "id": "32796728",
   "metadata": {
    "execution": {
     "iopub.execute_input": "2023-06-14T17:27:11.156707Z",
     "iopub.status.busy": "2023-06-14T17:27:11.155838Z",
     "iopub.status.idle": "2023-06-14T17:28:34.175614Z",
     "shell.execute_reply": "2023-06-14T17:28:34.174547Z"
    },
    "papermill": {
     "duration": 83.028857,
     "end_time": "2023-06-14T17:28:34.178095",
     "exception": false,
     "start_time": "2023-06-14T17:27:11.149238",
     "status": "completed"
    },
    "tags": []
   },
   "outputs": [
    {
     "name": "stdout",
     "output_type": "stream",
     "text": [
      "Epoch 1/10\n",
      "1200/1200 [==============================] - 14s 4ms/step - loss: 0.3583 - accuracy: 0.9243 - val_loss: 0.1137 - val_accuracy: 0.9683\n",
      "Epoch 2/10\n",
      "1200/1200 [==============================] - 5s 4ms/step - loss: 0.0831 - accuracy: 0.9758 - val_loss: 0.0784 - val_accuracy: 0.9771\n",
      "Epoch 3/10\n",
      "1200/1200 [==============================] - 5s 4ms/step - loss: 0.0570 - accuracy: 0.9828 - val_loss: 0.0572 - val_accuracy: 0.9831\n",
      "Epoch 4/10\n",
      "1200/1200 [==============================] - 5s 4ms/step - loss: 0.0503 - accuracy: 0.9851 - val_loss: 0.0523 - val_accuracy: 0.9856\n",
      "Epoch 5/10\n",
      "1200/1200 [==============================] - 6s 5ms/step - loss: 0.0420 - accuracy: 0.9869 - val_loss: 0.0760 - val_accuracy: 0.9783\n",
      "Epoch 6/10\n",
      "1200/1200 [==============================] - 5s 4ms/step - loss: 0.0379 - accuracy: 0.9882 - val_loss: 0.0531 - val_accuracy: 0.9855\n",
      "Epoch 7/10\n",
      "1200/1200 [==============================] - 5s 4ms/step - loss: 0.0302 - accuracy: 0.9910 - val_loss: 0.0641 - val_accuracy: 0.9818\n",
      "Epoch 8/10\n",
      "1200/1200 [==============================] - 5s 4ms/step - loss: 0.0266 - accuracy: 0.9916 - val_loss: 0.0601 - val_accuracy: 0.9847\n",
      "Epoch 9/10\n",
      "1200/1200 [==============================] - 5s 4ms/step - loss: 0.0228 - accuracy: 0.9930 - val_loss: 0.0702 - val_accuracy: 0.9857\n",
      "Epoch 10/10\n",
      "1200/1200 [==============================] - 5s 4ms/step - loss: 0.0220 - accuracy: 0.9932 - val_loss: 0.0751 - val_accuracy: 0.9855\n"
     ]
    },
    {
     "data": {
      "text/plain": [
       "<keras.callbacks.History at 0x7ba50e275090>"
      ]
     },
     "execution_count": 6,
     "metadata": {},
     "output_type": "execute_result"
    }
   ],
   "source": [
    "from keras.callbacks import TensorBoard\n",
    "X_train, X_test, y_train, y_test = train_test_split(X_train, y_train, test_size=0.2)\n",
    "model.fit(X_train.reshape(-1,28,28,1), to_categorical(y_train), epochs=10, validation_split=0.2,callbacks=[TensorBoard('CNN_logs')])"
   ]
  },
  {
   "cell_type": "code",
   "execution_count": 7,
   "id": "e2697907",
   "metadata": {
    "execution": {
     "iopub.execute_input": "2023-06-14T17:28:34.321931Z",
     "iopub.status.busy": "2023-06-14T17:28:34.321638Z",
     "iopub.status.idle": "2023-06-14T17:28:35.234922Z",
     "shell.execute_reply": "2023-06-14T17:28:35.234009Z"
    },
    "papermill": {
     "duration": 0.987237,
     "end_time": "2023-06-14T17:28:35.237024",
     "exception": false,
     "start_time": "2023-06-14T17:28:34.249787",
     "status": "completed"
    },
    "tags": []
   },
   "outputs": [
    {
     "name": "stdout",
     "output_type": "stream",
     "text": [
      "375/375 [==============================] - 1s 2ms/step - loss: 0.0714 - accuracy: 0.9852\n"
     ]
    },
    {
     "data": {
      "text/plain": [
       "[0.0714322179555893, 0.9851666688919067]"
      ]
     },
     "execution_count": 7,
     "metadata": {},
     "output_type": "execute_result"
    }
   ],
   "source": [
    "model.evaluate(X_test.reshape(-1,28,28,1), to_categorical(y_test))"
   ]
  },
  {
   "cell_type": "code",
   "execution_count": 8,
   "id": "a051fc3a",
   "metadata": {
    "execution": {
     "iopub.execute_input": "2023-06-14T17:28:35.383836Z",
     "iopub.status.busy": "2023-06-14T17:28:35.383022Z",
     "iopub.status.idle": "2023-06-14T17:28:36.385927Z",
     "shell.execute_reply": "2023-06-14T17:28:36.385003Z"
    },
    "papermill": {
     "duration": 1.077867,
     "end_time": "2023-06-14T17:28:36.387904",
     "exception": false,
     "start_time": "2023-06-14T17:28:35.310037",
     "status": "completed"
    },
    "tags": []
   },
   "outputs": [
    {
     "name": "stdout",
     "output_type": "stream",
     "text": [
      "375/375 [==============================] - 1s 2ms/step\n"
     ]
    },
    {
     "data": {
      "text/plain": [
       "array([3, 6, 6, ..., 5, 1, 6])"
      ]
     },
     "execution_count": 8,
     "metadata": {},
     "output_type": "execute_result"
    }
   ],
   "source": [
    "#confusion matrix\n",
    "y_pred = model.predict(X_test.reshape(-1,28,28,1))\n",
    "y_pred = np.argmax(y_pred, axis=1)\n",
    "y_pred\n"
   ]
  },
  {
   "cell_type": "code",
   "execution_count": 9,
   "id": "309e8186",
   "metadata": {
    "execution": {
     "iopub.execute_input": "2023-06-14T17:28:36.536446Z",
     "iopub.status.busy": "2023-06-14T17:28:36.536121Z",
     "iopub.status.idle": "2023-06-14T17:28:36.545391Z",
     "shell.execute_reply": "2023-06-14T17:28:36.544282Z"
    },
    "papermill": {
     "duration": 0.086503,
     "end_time": "2023-06-14T17:28:36.548156",
     "exception": false,
     "start_time": "2023-06-14T17:28:36.461653",
     "status": "completed"
    },
    "tags": []
   },
   "outputs": [
    {
     "name": "stdout",
     "output_type": "stream",
     "text": [
      "[[1198    0    1    0    0    0    3    0    2    1]\n",
      " [   1 1365    1    1    0    1    1    4    5    0]\n",
      " [   1    2 1138    2    0    1    0    8   14    0]\n",
      " [   0    1    1 1195    1    3    0    4    3    0]\n",
      " [   0    2    3    0 1129    0    3    4    3    9]\n",
      " [   3    0    0    2    0 1057    4    1    6    2]\n",
      " [   6    1    1    0    1    5 1173    0    3    0]\n",
      " [   3    1    1    0    0    0    0 1223    0    0]\n",
      " [   1    1    0    0    1    2    0    0 1183    3]\n",
      " [   7    1    0    1   13    5    0    7   10 1161]]\n"
     ]
    }
   ],
   "source": [
    "print(confusion_matrix(y_test, y_pred))"
   ]
  },
  {
   "cell_type": "code",
   "execution_count": 10,
   "id": "bcab867e",
   "metadata": {
    "execution": {
     "iopub.execute_input": "2023-06-14T17:28:36.697711Z",
     "iopub.status.busy": "2023-06-14T17:28:36.697437Z",
     "iopub.status.idle": "2023-06-14T17:28:36.731963Z",
     "shell.execute_reply": "2023-06-14T17:28:36.730377Z"
    },
    "papermill": {
     "duration": 0.110819,
     "end_time": "2023-06-14T17:28:36.733918",
     "exception": false,
     "start_time": "2023-06-14T17:28:36.623099",
     "status": "completed"
    },
    "tags": []
   },
   "outputs": [
    {
     "name": "stdout",
     "output_type": "stream",
     "text": [
      "              precision    recall  f1-score   support\n",
      "\n",
      "           0       0.98      0.99      0.99      1205\n",
      "           1       0.99      0.99      0.99      1379\n",
      "           2       0.99      0.98      0.98      1166\n",
      "           3       1.00      0.99      0.99      1208\n",
      "           4       0.99      0.98      0.98      1153\n",
      "           5       0.98      0.98      0.98      1075\n",
      "           6       0.99      0.99      0.99      1190\n",
      "           7       0.98      1.00      0.99      1228\n",
      "           8       0.96      0.99      0.98      1191\n",
      "           9       0.99      0.96      0.98      1205\n",
      "\n",
      "    accuracy                           0.99     12000\n",
      "   macro avg       0.99      0.99      0.99     12000\n",
      "weighted avg       0.99      0.99      0.99     12000\n",
      "\n"
     ]
    }
   ],
   "source": [
    "print(classification_report(y_test, y_pred))"
   ]
  }
 ],
 "metadata": {
  "kernelspec": {
   "display_name": "Python 3",
   "language": "python",
   "name": "python3"
  },
  "language_info": {
   "codemirror_mode": {
    "name": "ipython",
    "version": 3
   },
   "file_extension": ".py",
   "mimetype": "text/x-python",
   "name": "python",
   "nbconvert_exporter": "python",
   "pygments_lexer": "ipython3",
   "version": "3.10.10"
  },
  "papermill": {
   "default_parameters": {},
   "duration": 111.651034,
   "end_time": "2023-06-14T17:28:39.953164",
   "environment_variables": {},
   "exception": null,
   "input_path": "__notebook__.ipynb",
   "output_path": "__notebook__.ipynb",
   "parameters": {},
   "start_time": "2023-06-14T17:26:48.302130",
   "version": "2.4.0"
  }
 },
 "nbformat": 4,
 "nbformat_minor": 5
}
